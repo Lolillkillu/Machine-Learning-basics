{
 "cells": [
  {
   "cell_type": "code",
   "execution_count": null,
   "metadata": {},
   "outputs": [],
   "source": [
    "from ultralytics import YOLO\n",
    "import kagglehub\n",
    "import yaml\n",
    "\n",
    "path: str = kagglehub.dataset_download('mikoajkoek/traffic-road-object-detection-polish-12k') # downloading dataset\n",
    "\n",
    "with open(\"data_template.yaml\", mode=\"r\") as file_in, open(\"data.yaml\", mode=\"w\") as file_out: # adding path param in data.yaml\n",
    "    yaml_data = yaml.safe_load(file_in)\n",
    "    yaml_data['path'] = path\n",
    "    yaml.safe_dump(yaml_data, file_out)\n",
    "\n",
    "model = YOLO(\"yolo11m.pt\")\n",
    "\n",
    "# Train the model\n",
    "results = model.train(data=\"data.yaml\", epochs=100, imgsz=640)"
   ]
  }
 ],
 "metadata": {
  "kernelspec": {
   "display_name": "Python 3",
   "language": "python",
   "name": "python3"
  },
  "language_info": {
   "name": "python",
   "version": "3.12.8"
  }
 },
 "nbformat": 4,
 "nbformat_minor": 2
}
