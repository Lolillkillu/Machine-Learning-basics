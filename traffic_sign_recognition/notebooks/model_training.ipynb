{
 "cells": [
  {
   "cell_type": "markdown",
   "metadata": {},
   "source": [
    "# Model training"
   ]
  },
  {
   "cell_type": "code",
   "execution_count": null,
   "metadata": {},
   "outputs": [],
   "source": [
    "from ultralytics import YOLO\n",
    "import kagglehub\n",
    "import yaml\n",
    "\n",
    "path: str = kagglehub.dataset_download('mikoajkoek/traffic-road-object-detection-polish-12k') # downloading dataset\n",
    "\n",
    "with open(\"data_template.yaml\", mode=\"r\") as file_in, open(\"data.yaml\", mode=\"w\") as file_out: # adding path param in data.yaml\n",
    "    yaml_data = yaml.safe_load(file_in)\n",
    "    yaml_data['path'] = path\n",
    "    yaml.safe_dump(yaml_data, file_out)\n",
    "\n",
    "model = YOLO(\"yolo11m.pt\")\n",
    "\n",
    "# Train the model\n",
    "results = model.train(data=\"data.yaml\", epochs=100, imgsz=640)"
   ]
  },
  {
   "cell_type": "markdown",
   "metadata": {},
   "source": [
    "# Model validation"
   ]
  },
  {
   "cell_type": "code",
   "execution_count": null,
   "metadata": {},
   "outputs": [],
   "source": [
    "# Validating model\n",
    "\n",
    "from ultralytics import YOLO\n",
    "\n",
    "model = YOLO(\"./runs/detect/train/weights/best.pt\")\n",
    "val_results = model.val(conf=0.35)\n",
    "\n",
    "print(val_results.box.map) # mean average precision with IoU threshold 0,5 do 0,95\n",
    "print(val_results.box.map50) # mean average precision with IoU threshold 0,5\n",
    "print(val_results.box.map75) # mean average precision with IoU threshold 0,75\n",
    "print(val_results.box.maps) # mean average precision for each category with IoU threshold 0,5 do 0,95"
   ]
  }
 ],
 "metadata": {
  "kernelspec": {
   "display_name": "Python 3",
   "language": "python",
   "name": "python3"
  },
  "language_info": {
   "name": "python",
   "version": "3.12.8"
  }
 },
 "nbformat": 4,
 "nbformat_minor": 2
}
